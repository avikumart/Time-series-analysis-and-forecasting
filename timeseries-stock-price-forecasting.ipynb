{
 "cells": [
  {
   "cell_type": "markdown",
   "id": "9ee6cda2",
   "metadata": {
    "papermill": {
     "duration": 0.003788,
     "end_time": "2022-08-30T12:54:56.397319",
     "exception": false,
     "start_time": "2022-08-30T12:54:56.393531",
     "status": "completed"
    },
    "tags": []
   },
   "source": [
    "# **Introduction**\n",
    "\n",
    "## **What is a Time Series??**👀\n",
    "\n",
    "- Time-series is series of obeservations that are recorded over a period of time. these observations are dependent of time component which can not be neglected thus we have have to analysis the this data keeping time component in mind.\n",
    "\n",
    "### Time Series Forecasting\n",
    "\n",
    "- Time series forecasting is parhaps one of the most common type of machine learning techniques used in real-world scenarios. it falls under unsupervised learning category but called as a self-supervised learning or supervised learning technique. time-series data can be much complex to find patterns out of it, this is because irregular component of time series.\n",
    "\n",
    "## **Use-cases and applications:**\n",
    "- Forecast product demand\n",
    "- Economic growth and population forecasting\n",
    "- Weather forecasting\n",
    "- Stock price forecasting\n",
    "- Sales/Revenue forecasting\n",
    "\n",
    "\n",
    "## **Problem-statement**\n",
    "\n",
    "- In this notebook, our problem-statement is to analyse S&P500 stock prices (We will analyze 10 popular stocks and forecast the future prices) and build forecasting models that beat the market.\n",
    "\n",
    "roadmap: 1)explore the data 2) analysis of the data 3) interpretation 4) forecasting models\n"
   ]
  },
  {
   "cell_type": "markdown",
   "id": "55e4965c",
   "metadata": {
    "papermill": {
     "duration": 0.002411,
     "end_time": "2022-08-30T12:54:56.402563",
     "exception": false,
     "start_time": "2022-08-30T12:54:56.400152",
     "status": "completed"
    },
    "tags": []
   },
   "source": [
    "*this notebook is under progress!*"
   ]
  },
  {
   "cell_type": "code",
   "execution_count": 1,
   "id": "13cd20ca",
   "metadata": {
    "_cell_guid": "b1076dfc-b9ad-4769-8c92-a6c4dae69d19",
    "_uuid": "8f2839f25d086af736a60e9eeb907d3b93b6e0e5",
    "execution": {
     "iopub.execute_input": "2022-08-30T12:54:56.410569Z",
     "iopub.status.busy": "2022-08-30T12:54:56.408961Z",
     "iopub.status.idle": "2022-08-30T12:54:57.550562Z",
     "shell.execute_reply": "2022-08-30T12:54:57.549607Z"
    },
    "papermill": {
     "duration": 1.148343,
     "end_time": "2022-08-30T12:54:57.553374",
     "exception": false,
     "start_time": "2022-08-30T12:54:56.405031",
     "status": "completed"
    },
    "tags": []
   },
   "outputs": [],
   "source": [
    "import numpy as np\n",
    "import pandas as pd\n",
    "import matplotlib.pyplot as plt\n",
    "import seaborn as sns\n",
    "\n",
    "import warnings\n",
    "warnings.filterwarnings(\"ignore\")"
   ]
  },
  {
   "cell_type": "code",
   "execution_count": 2,
   "id": "ed4cdd23",
   "metadata": {
    "execution": {
     "iopub.execute_input": "2022-08-30T12:54:57.560351Z",
     "iopub.status.busy": "2022-08-30T12:54:57.559938Z",
     "iopub.status.idle": "2022-08-30T12:54:58.493455Z",
     "shell.execute_reply": "2022-08-30T12:54:58.490530Z"
    },
    "papermill": {
     "duration": 0.939865,
     "end_time": "2022-08-30T12:54:58.496074",
     "exception": false,
     "start_time": "2022-08-30T12:54:57.556209",
     "status": "completed"
    },
    "tags": []
   },
   "outputs": [
    {
     "data": {
      "text/html": [
       "<div>\n",
       "<style scoped>\n",
       "    .dataframe tbody tr th:only-of-type {\n",
       "        vertical-align: middle;\n",
       "    }\n",
       "\n",
       "    .dataframe tbody tr th {\n",
       "        vertical-align: top;\n",
       "    }\n",
       "\n",
       "    .dataframe thead th {\n",
       "        text-align: right;\n",
       "    }\n",
       "</style>\n",
       "<table border=\"1\" class=\"dataframe\">\n",
       "  <thead>\n",
       "    <tr style=\"text-align: right;\">\n",
       "      <th></th>\n",
       "      <th>date</th>\n",
       "      <th>open</th>\n",
       "      <th>high</th>\n",
       "      <th>low</th>\n",
       "      <th>close</th>\n",
       "      <th>volume</th>\n",
       "      <th>Name</th>\n",
       "    </tr>\n",
       "  </thead>\n",
       "  <tbody>\n",
       "    <tr>\n",
       "      <th>0</th>\n",
       "      <td>2013-02-08</td>\n",
       "      <td>15.07</td>\n",
       "      <td>15.12</td>\n",
       "      <td>14.63</td>\n",
       "      <td>14.75</td>\n",
       "      <td>8407500</td>\n",
       "      <td>AAL</td>\n",
       "    </tr>\n",
       "    <tr>\n",
       "      <th>1</th>\n",
       "      <td>2013-02-11</td>\n",
       "      <td>14.89</td>\n",
       "      <td>15.01</td>\n",
       "      <td>14.26</td>\n",
       "      <td>14.46</td>\n",
       "      <td>8882000</td>\n",
       "      <td>AAL</td>\n",
       "    </tr>\n",
       "    <tr>\n",
       "      <th>2</th>\n",
       "      <td>2013-02-12</td>\n",
       "      <td>14.45</td>\n",
       "      <td>14.51</td>\n",
       "      <td>14.10</td>\n",
       "      <td>14.27</td>\n",
       "      <td>8126000</td>\n",
       "      <td>AAL</td>\n",
       "    </tr>\n",
       "    <tr>\n",
       "      <th>3</th>\n",
       "      <td>2013-02-13</td>\n",
       "      <td>14.30</td>\n",
       "      <td>14.94</td>\n",
       "      <td>14.25</td>\n",
       "      <td>14.66</td>\n",
       "      <td>10259500</td>\n",
       "      <td>AAL</td>\n",
       "    </tr>\n",
       "    <tr>\n",
       "      <th>4</th>\n",
       "      <td>2013-02-14</td>\n",
       "      <td>14.94</td>\n",
       "      <td>14.96</td>\n",
       "      <td>13.16</td>\n",
       "      <td>13.99</td>\n",
       "      <td>31879900</td>\n",
       "      <td>AAL</td>\n",
       "    </tr>\n",
       "  </tbody>\n",
       "</table>\n",
       "</div>"
      ],
      "text/plain": [
       "         date   open   high    low  close    volume Name\n",
       "0  2013-02-08  15.07  15.12  14.63  14.75   8407500  AAL\n",
       "1  2013-02-11  14.89  15.01  14.26  14.46   8882000  AAL\n",
       "2  2013-02-12  14.45  14.51  14.10  14.27   8126000  AAL\n",
       "3  2013-02-13  14.30  14.94  14.25  14.66  10259500  AAL\n",
       "4  2013-02-14  14.94  14.96  13.16  13.99  31879900  AAL"
      ]
     },
     "execution_count": 2,
     "metadata": {},
     "output_type": "execute_result"
    }
   ],
   "source": [
    "df = pd.read_csv(\"../input/sandp500/all_stocks_5yr.csv\")\n",
    "df.head()"
   ]
  },
  {
   "cell_type": "code",
   "execution_count": 3,
   "id": "514b4b1b",
   "metadata": {
    "execution": {
     "iopub.execute_input": "2022-08-30T12:54:58.504407Z",
     "iopub.status.busy": "2022-08-30T12:54:58.503648Z",
     "iopub.status.idle": "2022-08-30T12:54:58.511138Z",
     "shell.execute_reply": "2022-08-30T12:54:58.510021Z"
    },
    "papermill": {
     "duration": 0.014192,
     "end_time": "2022-08-30T12:54:58.513581",
     "exception": false,
     "start_time": "2022-08-30T12:54:58.499389",
     "status": "completed"
    },
    "tags": []
   },
   "outputs": [
    {
     "data": {
      "text/plain": [
       "(619040, 7)"
      ]
     },
     "execution_count": 3,
     "metadata": {},
     "output_type": "execute_result"
    }
   ],
   "source": [
    "df.shape"
   ]
  },
  {
   "cell_type": "code",
   "execution_count": 4,
   "id": "7cc21527",
   "metadata": {
    "execution": {
     "iopub.execute_input": "2022-08-30T12:54:58.521488Z",
     "iopub.status.busy": "2022-08-30T12:54:58.520748Z",
     "iopub.status.idle": "2022-08-30T12:54:58.576499Z",
     "shell.execute_reply": "2022-08-30T12:54:58.575313Z"
    },
    "papermill": {
     "duration": 0.062198,
     "end_time": "2022-08-30T12:54:58.578867",
     "exception": false,
     "start_time": "2022-08-30T12:54:58.516669",
     "status": "completed"
    },
    "tags": []
   },
   "outputs": [
    {
     "data": {
      "text/plain": [
       "505"
      ]
     },
     "execution_count": 4,
     "metadata": {},
     "output_type": "execute_result"
    }
   ],
   "source": [
    "df['Name'].nunique()"
   ]
  },
  {
   "cell_type": "code",
   "execution_count": 5,
   "id": "eae9aeff",
   "metadata": {
    "execution": {
     "iopub.execute_input": "2022-08-30T12:54:58.587029Z",
     "iopub.status.busy": "2022-08-30T12:54:58.586330Z",
     "iopub.status.idle": "2022-08-30T12:54:58.590257Z",
     "shell.execute_reply": "2022-08-30T12:54:58.589524Z"
    },
    "papermill": {
     "duration": 0.009935,
     "end_time": "2022-08-30T12:54:58.592153",
     "exception": false,
     "start_time": "2022-08-30T12:54:58.582218",
     "status": "completed"
    },
    "tags": []
   },
   "outputs": [],
   "source": [
    "# explore the data in general \n",
    "# Find top 10 most traded stocks for analysis\n",
    "# high and low charts\n",
    "# time-duration of total data available"
   ]
  },
  {
   "cell_type": "code",
   "execution_count": null,
   "id": "db36d154",
   "metadata": {
    "papermill": {
     "duration": 0.002769,
     "end_time": "2022-08-30T12:54:58.598063",
     "exception": false,
     "start_time": "2022-08-30T12:54:58.595294",
     "status": "completed"
    },
    "tags": []
   },
   "outputs": [],
   "source": []
  }
 ],
 "metadata": {
  "kernelspec": {
   "display_name": "Python 3",
   "language": "python",
   "name": "python3"
  },
  "language_info": {
   "codemirror_mode": {
    "name": "ipython",
    "version": 3
   },
   "file_extension": ".py",
   "mimetype": "text/x-python",
   "name": "python",
   "nbconvert_exporter": "python",
   "pygments_lexer": "ipython3",
   "version": "3.7.12"
  },
  "papermill": {
   "default_parameters": {},
   "duration": 12.259376,
   "end_time": "2022-08-30T12:54:59.324841",
   "environment_variables": {},
   "exception": null,
   "input_path": "__notebook__.ipynb",
   "output_path": "__notebook__.ipynb",
   "parameters": {},
   "start_time": "2022-08-30T12:54:47.065465",
   "version": "2.3.4"
  }
 },
 "nbformat": 4,
 "nbformat_minor": 5
}
